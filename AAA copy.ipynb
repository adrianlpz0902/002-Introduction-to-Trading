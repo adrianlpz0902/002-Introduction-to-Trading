{
 "cells": [
  {
   "cell_type": "code",
   "execution_count": null,
   "id": "d5319246",
   "metadata": {},
   "outputs": [],
   "source": [
    "import pandas as pd\n",
    "import optuna\n",
    "import matplotlib.pyplot as plt\n",
    "import seaborn as sns\n",
    "import ta\n",
    "from dataclasses import dataclass\n",
    "import numpy as np\n",
    "\n",
    "sns.set_theme()"
   ]
  },
  {
   "cell_type": "code",
   "execution_count": 14,
   "id": "41882da5",
   "metadata": {},
   "outputs": [],
   "source": [
    "data = pd.read_csv(r\"C:\\Users\\renat\\Desktop\\Trading\\Effective Spread - T2\\aapl_5m_train.csv\").dropna()"
   ]
  },
  {
   "cell_type": "code",
   "execution_count": null,
   "id": "ed4b9cdc",
   "metadata": {},
   "outputs": [],
   "source": [
    "@dataclass\n",
    "\n",
    "class Position: \n",
    "    ticker: str\n",
    "    n_shares: int\n",
    "    price: float \n",
    "    sl: float \n",
    "    tp: float \n",
    "    time: str "
   ]
  },
  {
   "cell_type": "code",
   "execution_count": null,
   "id": "41941aea",
   "metadata": {},
   "outputs": [],
   "source": [
    "def objective(trial, data) -> float:\n",
    "    data = data.copy()\n",
    "    \n",
    "    rsi_window = trial.suggest_int(\"rsi_window\", 8, 80)\n",
    "    rsi_lower = trial.suggest_int(\"rsi_lower\", 5, 35)\n",
    "    stop_loss = trial.suggest_float(\"stop_loss\", 0.01, 0.15)\n",
    "    take_profit = trial.suggest_float(\"take_profit\", 0.01, 0.15)\n",
    "    n_shares = trial.suggest_int(\"n_shares\", 5, 500)\n",
    "\n",
    "    rsi_ind = ta.momentum.RSIIndicator(data.Close, window=rsi_window)    \n",
    "\n",
    "    data['rsi'] = rsi_ind.rsi()\n",
    "    data['buy_signal'] = data['rsi'] < rsi_lower\n",
    "    # data['sell_signal'] = data['rsi'] > 80\n",
    "\n",
    "    data = data.dropna()\n",
    "\n",
    "    COM = 0.125/100\n",
    "    BORROW_RATE = 0.25/100\n",
    "    STOP_LOSS = stop_loss\n",
    "    TAKE_PROFIT = take_profit\n",
    "    N_SHARES = n_shares\n",
    "\n",
    "    capital = 1_000_000\n",
    "    active_long_positions: list[Position] = []\n",
    "    portfolio_value: list[float] = [capital]\n",
    "\n",
    "    for i, row in data.iterrows():\n",
    "        # - LONG - #\n",
    "        # Check active orders\n",
    "        for position in active_long_positions.copy():\n",
    "            # Stop loss or take profit check\n",
    "            if row.Close > position.tp or row.Close < position.sl:\n",
    "                # Add profits / losses to capital\n",
    "                capital += row.Close * position.n_shares * (1 - COM)\n",
    "                # Remove position from active pos\n",
    "                active_long_positions.remove(position)\n",
    "\n",
    "        # Check signal\n",
    "        if row.buy_signal:\n",
    "            cost = row.Close * N_SHARES * (1 + COM)\n",
    "            # Do we have enough capital?\n",
    "            if capital > cost:\n",
    "                # Discount cash\n",
    "                capital -= cost\n",
    "                #add position to portfolio\n",
    "                pos = Position(ticker=\"AAPL\", n_shares=N_SHARES, price=row.Close, sl=row.Close * (1 - STOP_LOSS),\n",
    "                                tp=row.Close * (1 + TAKE_PROFIT), time=row.Datetime)\n",
    "                active_long_positions.append(pos)\n",
    "\n",
    "        current_value = len(active_long_positions) * row.Close * N_SHARES + capital\n",
    "        portfolio_value.append(current_value)\n",
    "\n",
    "    # At the end of the backtesting, we should close all the active positions\n",
    "    capital += row.Close * len(active_long_positions) * N_SHARES * (1 - COM)\n",
    "    active_long_positions = []\n",
    "\n",
    "    df = pd.DataFrame()\n",
    "    df[\"value\"] = portfolio_value\n",
    "    df[\"rets\"] = df.value.pct_change()\n",
    "    df.dropna(inplace=True)\n",
    "\n",
    "    mean = df.rets.mean()\n",
    "    std = df.rets.std()\n",
    "\n",
    "    annual_rets = mean * (60/5) * (6.5) * (252)  # anualizado\n",
    "    annual_std = std * np.sqrt((60/5) * (6.5) * (252))\n",
    "\n",
    "    return annual_rets / annual_std"
   ]
  },
  {
   "cell_type": "code",
   "execution_count": 50,
   "id": "c00b5cf5",
   "metadata": {},
   "outputs": [
    {
     "name": "stderr",
     "output_type": "stream",
     "text": [
      "[I 2025-09-18 19:38:06,155] A new study created in memory with name: no-name-613cae62-ce05-493d-8dd8-337a3ad3957c\n",
      "C:\\Users\\renat\\AppData\\Local\\Temp\\ipykernel_5028\\1625049680.py:69: RuntimeWarning: invalid value encountered in scalar divide\n",
      "  return annual_rets / annual_std\n",
      "[W 2025-09-18 19:38:07,556] Trial 0 failed with parameters: {'rsi_window': 76, 'rsi_lower': 14, 'stop_loss': 0.06276361473744968, 'take_profit': 0.10874481498617385, 'n_shares': 457} because of the following error: The value nan is not acceptable.\n",
      "[W 2025-09-18 19:38:07,562] Trial 0 failed with value np.float64(nan).\n",
      "[I 2025-09-18 19:38:10,491] Trial 1 finished with value: 0.4722584819164613 and parameters: {'rsi_window': 73, 'rsi_lower': 34, 'stop_loss': 0.06005487272718141, 'take_profit': 0.11450068381253138, 'n_shares': 146}. Best is trial 1 with value: 0.4722584819164613.\n",
      "C:\\Users\\renat\\AppData\\Local\\Temp\\ipykernel_5028\\1625049680.py:69: RuntimeWarning: invalid value encountered in scalar divide\n",
      "  return annual_rets / annual_std\n",
      "[W 2025-09-18 19:38:11,765] Trial 2 failed with parameters: {'rsi_window': 51, 'rsi_lower': 15, 'stop_loss': 0.05704436192683156, 'take_profit': 0.10429087491135963, 'n_shares': 345} because of the following error: The value nan is not acceptable.\n",
      "[W 2025-09-18 19:38:11,765] Trial 2 failed with value np.float64(nan).\n",
      "C:\\Users\\renat\\AppData\\Local\\Temp\\ipykernel_5028\\1625049680.py:69: RuntimeWarning: invalid value encountered in scalar divide\n",
      "  return annual_rets / annual_std\n",
      "[W 2025-09-18 19:38:12,909] Trial 3 failed with parameters: {'rsi_window': 62, 'rsi_lower': 15, 'stop_loss': 0.01157525957431499, 'take_profit': 0.037800785089843074, 'n_shares': 91} because of the following error: The value nan is not acceptable.\n",
      "[W 2025-09-18 19:38:12,914] Trial 3 failed with value np.float64(nan).\n",
      "[I 2025-09-18 19:38:14,300] Trial 4 finished with value: 0.7709106203085906 and parameters: {'rsi_window': 18, 'rsi_lower': 7, 'stop_loss': 0.030711248462329935, 'take_profit': 0.065724668477756, 'n_shares': 350}. Best is trial 4 with value: 0.7709106203085906.\n",
      "C:\\Users\\renat\\AppData\\Local\\Temp\\ipykernel_5028\\1625049680.py:69: RuntimeWarning: invalid value encountered in scalar divide\n",
      "  return annual_rets / annual_std\n",
      "[W 2025-09-18 19:38:15,992] Trial 5 failed with parameters: {'rsi_window': 44, 'rsi_lower': 15, 'stop_loss': 0.021127057032968348, 'take_profit': 0.10261939149057024, 'n_shares': 195} because of the following error: The value nan is not acceptable.\n",
      "[W 2025-09-18 19:38:15,992] Trial 5 failed with value np.float64(nan).\n",
      "[I 2025-09-18 19:38:17,927] Trial 6 finished with value: 0.38588752595976217 and parameters: {'rsi_window': 24, 'rsi_lower': 18, 'stop_loss': 0.07741584963320516, 'take_profit': 0.022141499882808734, 'n_shares': 401}. Best is trial 4 with value: 0.7709106203085906.\n",
      "[I 2025-09-18 19:38:19,770] Trial 7 finished with value: 0.8538574310227329 and parameters: {'rsi_window': 24, 'rsi_lower': 15, 'stop_loss': 0.14784830951315428, 'take_profit': 0.09176711129545151, 'n_shares': 48}. Best is trial 7 with value: 0.8538574310227329.\n",
      "[I 2025-09-18 19:38:21,396] Trial 8 finished with value: 0.8958828388894315 and parameters: {'rsi_window': 42, 'rsi_lower': 25, 'stop_loss': 0.08379865044771544, 'take_profit': 0.09355993255389626, 'n_shares': 439}. Best is trial 8 with value: 0.8958828388894315.\n",
      "[I 2025-09-18 19:38:23,908] Trial 9 finished with value: -0.29136304715142675 and parameters: {'rsi_window': 19, 'rsi_lower': 24, 'stop_loss': 0.05812252297784594, 'take_profit': 0.026233673353837125, 'n_shares': 337}. Best is trial 8 with value: 0.8958828388894315.\n",
      "[I 2025-09-18 19:38:26,688] Trial 10 finished with value: 0.9654536998528063 and parameters: {'rsi_window': 60, 'rsi_lower': 29, 'stop_loss': 0.07631404478157842, 'take_profit': 0.1340772549047369, 'n_shares': 117}. Best is trial 10 with value: 0.9654536998528063.\n",
      "[I 2025-09-18 19:38:28,582] Trial 11 finished with value: 1.5610336098196365 and parameters: {'rsi_window': 24, 'rsi_lower': 12, 'stop_loss': 0.08250866120747824, 'take_profit': 0.04714022562751917, 'n_shares': 82}. Best is trial 11 with value: 1.5610336098196365.\n",
      "[I 2025-09-18 19:38:30,820] Trial 12 finished with value: 0.6278201061970659 and parameters: {'rsi_window': 67, 'rsi_lower': 26, 'stop_loss': 0.1222908048183675, 'take_profit': 0.061709363600294574, 'n_shares': 132}. Best is trial 11 with value: 1.5610336098196365.\n",
      "[I 2025-09-18 19:38:39,553] Trial 13 finished with value: -0.09733383970012605 and parameters: {'rsi_window': 10, 'rsi_lower': 29, 'stop_loss': 0.033833431310266365, 'take_profit': 0.10745435748153012, 'n_shares': 300}. Best is trial 11 with value: 1.5610336098196365.\n",
      "C:\\Users\\renat\\AppData\\Local\\Temp\\ipykernel_5028\\1625049680.py:69: RuntimeWarning: invalid value encountered in scalar divide\n",
      "  return annual_rets / annual_std\n",
      "[W 2025-09-18 19:38:41,489] Trial 14 failed with parameters: {'rsi_window': 43, 'rsi_lower': 5, 'stop_loss': 0.1096708931974212, 'take_profit': 0.045586898019664014, 'n_shares': 9} because of the following error: The value nan is not acceptable.\n",
      "[W 2025-09-18 19:38:41,489] Trial 14 failed with value np.float64(nan).\n",
      "C:\\Users\\renat\\AppData\\Local\\Temp\\ipykernel_5028\\1625049680.py:69: RuntimeWarning: invalid value encountered in scalar divide\n",
      "  return annual_rets / annual_std\n",
      "[W 2025-09-18 19:38:43,174] Trial 15 failed with parameters: {'rsi_window': 40, 'rsi_lower': 5, 'stop_loss': 0.10909870795447109, 'take_profit': 0.04369230258445678, 'n_shares': 206} because of the following error: The value nan is not acceptable.\n",
      "[W 2025-09-18 19:38:43,174] Trial 15 failed with value np.float64(nan).\n",
      "C:\\Users\\renat\\AppData\\Local\\Temp\\ipykernel_5028\\1625049680.py:69: RuntimeWarning: invalid value encountered in scalar divide\n",
      "  return annual_rets / annual_std\n",
      "[W 2025-09-18 19:38:45,258] Trial 16 failed with parameters: {'rsi_window': 41, 'rsi_lower': 5, 'stop_loss': 0.11004235517410169, 'take_profit': 0.045762225298936345, 'n_shares': 224} because of the following error: The value nan is not acceptable.\n",
      "[W 2025-09-18 19:38:45,258] Trial 16 failed with value np.float64(nan).\n",
      "C:\\Users\\renat\\AppData\\Local\\Temp\\ipykernel_5028\\1625049680.py:69: RuntimeWarning: invalid value encountered in scalar divide\n",
      "  return annual_rets / annual_std\n",
      "[W 2025-09-18 19:38:47,576] Trial 17 failed with parameters: {'rsi_window': 41, 'rsi_lower': 6, 'stop_loss': 0.11896559236271506, 'take_profit': 0.05400862809997492, 'n_shares': 209} because of the following error: The value nan is not acceptable.\n",
      "[W 2025-09-18 19:38:47,576] Trial 17 failed with value np.float64(nan).\n",
      "C:\\Users\\renat\\AppData\\Local\\Temp\\ipykernel_5028\\1625049680.py:69: RuntimeWarning: invalid value encountered in scalar divide\n",
      "  return annual_rets / annual_std\n",
      "[W 2025-09-18 19:38:49,410] Trial 18 failed with parameters: {'rsi_window': 41, 'rsi_lower': 5, 'stop_loss': 0.10798896117838747, 'take_profit': 0.04369612693479219, 'n_shares': 7} because of the following error: The value nan is not acceptable.\n",
      "[W 2025-09-18 19:38:49,410] Trial 18 failed with value np.float64(nan).\n",
      "C:\\Users\\renat\\AppData\\Local\\Temp\\ipykernel_5028\\1625049680.py:69: RuntimeWarning: invalid value encountered in scalar divide\n",
      "  return annual_rets / annual_std\n",
      "[W 2025-09-18 19:38:51,389] Trial 19 failed with parameters: {'rsi_window': 44, 'rsi_lower': 8, 'stop_loss': 0.10796942613737336, 'take_profit': 0.05004687240678591, 'n_shares': 7} because of the following error: The value nan is not acceptable.\n",
      "[W 2025-09-18 19:38:51,389] Trial 19 failed with value np.float64(nan).\n",
      "C:\\Users\\renat\\AppData\\Local\\Temp\\ipykernel_5028\\1625049680.py:69: RuntimeWarning: invalid value encountered in scalar divide\n",
      "  return annual_rets / annual_std\n",
      "[W 2025-09-18 19:38:53,290] Trial 20 failed with parameters: {'rsi_window': 41, 'rsi_lower': 5, 'stop_loss': 0.10866354844127264, 'take_profit': 0.04567881998510021, 'n_shares': 11} because of the following error: The value nan is not acceptable.\n",
      "[W 2025-09-18 19:38:53,298] Trial 20 failed with value np.float64(nan).\n",
      "C:\\Users\\renat\\AppData\\Local\\Temp\\ipykernel_5028\\1625049680.py:69: RuntimeWarning: invalid value encountered in scalar divide\n",
      "  return annual_rets / annual_std\n",
      "[W 2025-09-18 19:38:55,289] Trial 21 failed with parameters: {'rsi_window': 42, 'rsi_lower': 5, 'stop_loss': 0.1137942913307689, 'take_profit': 0.047732209372913725, 'n_shares': 226} because of the following error: The value nan is not acceptable.\n",
      "[W 2025-09-18 19:38:55,291] Trial 21 failed with value np.float64(nan).\n",
      "C:\\Users\\renat\\AppData\\Local\\Temp\\ipykernel_5028\\1625049680.py:69: RuntimeWarning: invalid value encountered in scalar divide\n",
      "  return annual_rets / annual_std\n",
      "[W 2025-09-18 19:38:57,509] Trial 22 failed with parameters: {'rsi_window': 37, 'rsi_lower': 5, 'stop_loss': 0.11066749145363196, 'take_profit': 0.04561706812817255, 'n_shares': 8} because of the following error: The value nan is not acceptable.\n",
      "[W 2025-09-18 19:38:57,509] Trial 22 failed with value np.float64(nan).\n",
      "C:\\Users\\renat\\AppData\\Local\\Temp\\ipykernel_5028\\1625049680.py:69: RuntimeWarning: invalid value encountered in scalar divide\n",
      "  return annual_rets / annual_std\n",
      "[W 2025-09-18 19:39:00,262] Trial 23 failed with parameters: {'rsi_window': 43, 'rsi_lower': 10, 'stop_loss': 0.10894084550486649, 'take_profit': 0.04872395542590843, 'n_shares': 5} because of the following error: The value nan is not acceptable.\n",
      "[W 2025-09-18 19:39:00,262] Trial 23 failed with value np.float64(nan).\n",
      "C:\\Users\\renat\\AppData\\Local\\Temp\\ipykernel_5028\\1625049680.py:69: RuntimeWarning: invalid value encountered in scalar divide\n",
      "  return annual_rets / annual_std\n",
      "[W 2025-09-18 19:39:02,583] Trial 24 failed with parameters: {'rsi_window': 40, 'rsi_lower': 5, 'stop_loss': 0.11202059003108243, 'take_profit': 0.04625881370432529, 'n_shares': 213} because of the following error: The value nan is not acceptable.\n",
      "[W 2025-09-18 19:39:02,583] Trial 24 failed with value np.float64(nan).\n",
      "C:\\Users\\renat\\AppData\\Local\\Temp\\ipykernel_5028\\1625049680.py:69: RuntimeWarning: invalid value encountered in scalar divide\n",
      "  return annual_rets / annual_std\n",
      "[W 2025-09-18 19:39:04,625] Trial 25 failed with parameters: {'rsi_window': 41, 'rsi_lower': 6, 'stop_loss': 0.11276615041435385, 'take_profit': 0.04134208380469007, 'n_shares': 228} because of the following error: The value nan is not acceptable.\n",
      "[W 2025-09-18 19:39:04,625] Trial 25 failed with value np.float64(nan).\n",
      "C:\\Users\\renat\\AppData\\Local\\Temp\\ipykernel_5028\\1625049680.py:69: RuntimeWarning: invalid value encountered in scalar divide\n",
      "  return annual_rets / annual_std\n",
      "[W 2025-09-18 19:39:06,949] Trial 26 failed with parameters: {'rsi_window': 41, 'rsi_lower': 6, 'stop_loss': 0.10944595824748184, 'take_profit': 0.04885476009761339, 'n_shares': 219} because of the following error: The value nan is not acceptable.\n",
      "[W 2025-09-18 19:39:06,949] Trial 26 failed with value np.float64(nan).\n",
      "C:\\Users\\renat\\AppData\\Local\\Temp\\ipykernel_5028\\1625049680.py:69: RuntimeWarning: invalid value encountered in scalar divide\n",
      "  return annual_rets / annual_std\n",
      "[W 2025-09-18 19:39:09,035] Trial 27 failed with parameters: {'rsi_window': 43, 'rsi_lower': 5, 'stop_loss': 0.10601618967788885, 'take_profit': 0.04464431309450281, 'n_shares': 5} because of the following error: The value nan is not acceptable.\n",
      "[W 2025-09-18 19:39:09,037] Trial 27 failed with value np.float64(nan).\n",
      "C:\\Users\\renat\\AppData\\Local\\Temp\\ipykernel_5028\\1625049680.py:69: RuntimeWarning: invalid value encountered in scalar divide\n",
      "  return annual_rets / annual_std\n",
      "[W 2025-09-18 19:39:11,603] Trial 28 failed with parameters: {'rsi_window': 43, 'rsi_lower': 5, 'stop_loss': 0.11113107148636957, 'take_profit': 0.046089787070630175, 'n_shares': 6} because of the following error: The value nan is not acceptable.\n",
      "[W 2025-09-18 19:39:11,603] Trial 28 failed with value np.float64(nan).\n",
      "C:\\Users\\renat\\AppData\\Local\\Temp\\ipykernel_5028\\1625049680.py:69: RuntimeWarning: invalid value encountered in scalar divide\n",
      "  return annual_rets / annual_std\n",
      "[W 2025-09-18 19:39:13,756] Trial 29 failed with parameters: {'rsi_window': 39, 'rsi_lower': 5, 'stop_loss': 0.10358196226105634, 'take_profit': 0.04686209978270443, 'n_shares': 14} because of the following error: The value nan is not acceptable.\n",
      "[W 2025-09-18 19:39:13,756] Trial 29 failed with value np.float64(nan).\n",
      "C:\\Users\\renat\\AppData\\Local\\Temp\\ipykernel_5028\\1625049680.py:69: RuntimeWarning: invalid value encountered in scalar divide\n",
      "  return annual_rets / annual_std\n",
      "[W 2025-09-18 19:39:16,138] Trial 30 failed with parameters: {'rsi_window': 39, 'rsi_lower': 5, 'stop_loss': 0.10817518997575769, 'take_profit': 0.052113554196181196, 'n_shares': 226} because of the following error: The value nan is not acceptable.\n",
      "[W 2025-09-18 19:39:16,140] Trial 30 failed with value np.float64(nan).\n",
      "C:\\Users\\renat\\AppData\\Local\\Temp\\ipykernel_5028\\1625049680.py:69: RuntimeWarning: invalid value encountered in scalar divide\n",
      "  return annual_rets / annual_std\n",
      "[W 2025-09-18 19:39:18,384] Trial 31 failed with parameters: {'rsi_window': 41, 'rsi_lower': 5, 'stop_loss': 0.10940758113300343, 'take_profit': 0.045757834829234255, 'n_shares': 5} because of the following error: The value nan is not acceptable.\n",
      "[W 2025-09-18 19:39:18,384] Trial 31 failed with value np.float64(nan).\n",
      "C:\\Users\\renat\\AppData\\Local\\Temp\\ipykernel_5028\\1625049680.py:69: RuntimeWarning: invalid value encountered in scalar divide\n",
      "  return annual_rets / annual_std\n",
      "[W 2025-09-18 19:39:20,554] Trial 32 failed with parameters: {'rsi_window': 44, 'rsi_lower': 5, 'stop_loss': 0.10919289905152707, 'take_profit': 0.04594957585865109, 'n_shares': 221} because of the following error: The value nan is not acceptable.\n",
      "[W 2025-09-18 19:39:20,554] Trial 32 failed with value np.float64(nan).\n",
      "C:\\Users\\renat\\AppData\\Local\\Temp\\ipykernel_5028\\1625049680.py:69: RuntimeWarning: invalid value encountered in scalar divide\n",
      "  return annual_rets / annual_std\n",
      "[W 2025-09-18 19:39:22,801] Trial 33 failed with parameters: {'rsi_window': 41, 'rsi_lower': 9, 'stop_loss': 0.10806212884349405, 'take_profit': 0.047055787494595214, 'n_shares': 226} because of the following error: The value nan is not acceptable.\n",
      "[W 2025-09-18 19:39:22,803] Trial 33 failed with value np.float64(nan).\n",
      "C:\\Users\\renat\\AppData\\Local\\Temp\\ipykernel_5028\\1625049680.py:69: RuntimeWarning: invalid value encountered in scalar divide\n",
      "  return annual_rets / annual_std\n",
      "[W 2025-09-18 19:39:24,936] Trial 34 failed with parameters: {'rsi_window': 41, 'rsi_lower': 5, 'stop_loss': 0.11044135518698303, 'take_profit': 0.04834932879297094, 'n_shares': 224} because of the following error: The value nan is not acceptable.\n",
      "[W 2025-09-18 19:39:24,936] Trial 34 failed with value np.float64(nan).\n",
      "C:\\Users\\renat\\AppData\\Local\\Temp\\ipykernel_5028\\1625049680.py:69: RuntimeWarning: invalid value encountered in scalar divide\n",
      "  return annual_rets / annual_std\n",
      "[W 2025-09-18 19:39:26,981] Trial 35 failed with parameters: {'rsi_window': 39, 'rsi_lower': 8, 'stop_loss': 0.11304139674949533, 'take_profit': 0.045750949516953514, 'n_shares': 6} because of the following error: The value nan is not acceptable.\n",
      "[W 2025-09-18 19:39:26,984] Trial 35 failed with value np.float64(nan).\n",
      "C:\\Users\\renat\\AppData\\Local\\Temp\\ipykernel_5028\\1625049680.py:69: RuntimeWarning: invalid value encountered in scalar divide\n",
      "  return annual_rets / annual_std\n",
      "[W 2025-09-18 19:39:28,901] Trial 36 failed with parameters: {'rsi_window': 39, 'rsi_lower': 5, 'stop_loss': 0.10930683828345891, 'take_profit': 0.04513218519527102, 'n_shares': 11} because of the following error: The value nan is not acceptable.\n",
      "[W 2025-09-18 19:39:28,901] Trial 36 failed with value np.float64(nan).\n",
      "C:\\Users\\renat\\AppData\\Local\\Temp\\ipykernel_5028\\1625049680.py:69: RuntimeWarning: invalid value encountered in scalar divide\n",
      "  return annual_rets / annual_std\n",
      "[W 2025-09-18 19:39:30,825] Trial 37 failed with parameters: {'rsi_window': 42, 'rsi_lower': 5, 'stop_loss': 0.10889978969687386, 'take_profit': 0.04469161056703789, 'n_shares': 9} because of the following error: The value nan is not acceptable.\n",
      "[W 2025-09-18 19:39:30,825] Trial 37 failed with value np.float64(nan).\n",
      "C:\\Users\\renat\\AppData\\Local\\Temp\\ipykernel_5028\\1625049680.py:69: RuntimeWarning: invalid value encountered in scalar divide\n",
      "  return annual_rets / annual_std\n",
      "[W 2025-09-18 19:39:32,697] Trial 38 failed with parameters: {'rsi_window': 41, 'rsi_lower': 9, 'stop_loss': 0.11119285503078336, 'take_profit': 0.046964086180655354, 'n_shares': 6} because of the following error: The value nan is not acceptable.\n",
      "[W 2025-09-18 19:39:32,697] Trial 38 failed with value np.float64(nan).\n",
      "C:\\Users\\renat\\AppData\\Local\\Temp\\ipykernel_5028\\1625049680.py:69: RuntimeWarning: invalid value encountered in scalar divide\n",
      "  return annual_rets / annual_std\n",
      "[W 2025-09-18 19:39:34,534] Trial 39 failed with parameters: {'rsi_window': 39, 'rsi_lower': 5, 'stop_loss': 0.11079655782505786, 'take_profit': 0.04542278702979578, 'n_shares': 5} because of the following error: The value nan is not acceptable.\n",
      "[W 2025-09-18 19:39:34,534] Trial 39 failed with value np.float64(nan).\n",
      "C:\\Users\\renat\\AppData\\Local\\Temp\\ipykernel_5028\\1625049680.py:69: RuntimeWarning: invalid value encountered in scalar divide\n",
      "  return annual_rets / annual_std\n",
      "[W 2025-09-18 19:39:36,327] Trial 40 failed with parameters: {'rsi_window': 42, 'rsi_lower': 5, 'stop_loss': 0.11349036033899118, 'take_profit': 0.04302875736879492, 'n_shares': 215} because of the following error: The value nan is not acceptable.\n",
      "[W 2025-09-18 19:39:36,331] Trial 40 failed with value np.float64(nan).\n",
      "C:\\Users\\renat\\AppData\\Local\\Temp\\ipykernel_5028\\1625049680.py:69: RuntimeWarning: invalid value encountered in scalar divide\n",
      "  return annual_rets / annual_std\n",
      "[W 2025-09-18 19:39:38,179] Trial 41 failed with parameters: {'rsi_window': 42, 'rsi_lower': 9, 'stop_loss': 0.10833249332147038, 'take_profit': 0.05068140935572481, 'n_shares': 5} because of the following error: The value nan is not acceptable.\n",
      "[W 2025-09-18 19:39:38,181] Trial 41 failed with value np.float64(nan).\n",
      "C:\\Users\\renat\\AppData\\Local\\Temp\\ipykernel_5028\\1625049680.py:69: RuntimeWarning: invalid value encountered in scalar divide\n",
      "  return annual_rets / annual_std\n",
      "[W 2025-09-18 19:39:40,138] Trial 42 failed with parameters: {'rsi_window': 38, 'rsi_lower': 5, 'stop_loss': 0.10905206363853968, 'take_profit': 0.04857928426797293, 'n_shares': 7} because of the following error: The value nan is not acceptable.\n",
      "[W 2025-09-18 19:39:40,138] Trial 42 failed with value np.float64(nan).\n",
      "C:\\Users\\renat\\AppData\\Local\\Temp\\ipykernel_5028\\1625049680.py:69: RuntimeWarning: invalid value encountered in scalar divide\n",
      "  return annual_rets / annual_std\n",
      "[W 2025-09-18 19:39:42,306] Trial 43 failed with parameters: {'rsi_window': 41, 'rsi_lower': 6, 'stop_loss': 0.11410473505680283, 'take_profit': 0.040249396372721, 'n_shares': 11} because of the following error: The value nan is not acceptable.\n",
      "[W 2025-09-18 19:39:42,309] Trial 43 failed with value np.float64(nan).\n",
      "C:\\Users\\renat\\AppData\\Local\\Temp\\ipykernel_5028\\1625049680.py:69: RuntimeWarning: invalid value encountered in scalar divide\n",
      "  return annual_rets / annual_std\n",
      "[W 2025-09-18 19:39:44,095] Trial 44 failed with parameters: {'rsi_window': 42, 'rsi_lower': 6, 'stop_loss': 0.10829114031500624, 'take_profit': 0.04469134174018226, 'n_shares': 15} because of the following error: The value nan is not acceptable.\n",
      "[W 2025-09-18 19:39:44,097] Trial 44 failed with value np.float64(nan).\n",
      "C:\\Users\\renat\\AppData\\Local\\Temp\\ipykernel_5028\\1625049680.py:69: RuntimeWarning: invalid value encountered in scalar divide\n",
      "  return annual_rets / annual_std\n",
      "[W 2025-09-18 19:39:46,455] Trial 45 failed with parameters: {'rsi_window': 39, 'rsi_lower': 5, 'stop_loss': 0.10778063993364123, 'take_profit': 0.044738469963869286, 'n_shares': 213} because of the following error: The value nan is not acceptable.\n",
      "[W 2025-09-18 19:39:46,457] Trial 45 failed with value np.float64(nan).\n",
      "C:\\Users\\renat\\AppData\\Local\\Temp\\ipykernel_5028\\1625049680.py:69: RuntimeWarning: invalid value encountered in scalar divide\n",
      "  return annual_rets / annual_std\n",
      "[W 2025-09-18 19:39:48,489] Trial 46 failed with parameters: {'rsi_window': 45, 'rsi_lower': 5, 'stop_loss': 0.11134518587644149, 'take_profit': 0.048236508036909605, 'n_shares': 215} because of the following error: The value nan is not acceptable.\n",
      "[W 2025-09-18 19:39:48,489] Trial 46 failed with value np.float64(nan).\n",
      "C:\\Users\\renat\\AppData\\Local\\Temp\\ipykernel_5028\\1625049680.py:69: RuntimeWarning: invalid value encountered in scalar divide\n",
      "  return annual_rets / annual_std\n",
      "[W 2025-09-18 19:39:50,313] Trial 47 failed with parameters: {'rsi_window': 41, 'rsi_lower': 6, 'stop_loss': 0.1111010996134865, 'take_profit': 0.046504941503692505, 'n_shares': 7} because of the following error: The value nan is not acceptable.\n",
      "[W 2025-09-18 19:39:50,313] Trial 47 failed with value np.float64(nan).\n",
      "C:\\Users\\renat\\AppData\\Local\\Temp\\ipykernel_5028\\1625049680.py:69: RuntimeWarning: invalid value encountered in scalar divide\n",
      "  return annual_rets / annual_std\n",
      "[W 2025-09-18 19:39:52,173] Trial 48 failed with parameters: {'rsi_window': 41, 'rsi_lower': 6, 'stop_loss': 0.1193882352488214, 'take_profit': 0.0442560976411661, 'n_shares': 17} because of the following error: The value nan is not acceptable.\n",
      "[W 2025-09-18 19:39:52,173] Trial 48 failed with value np.float64(nan).\n",
      "C:\\Users\\renat\\AppData\\Local\\Temp\\ipykernel_5028\\1625049680.py:69: RuntimeWarning: invalid value encountered in scalar divide\n",
      "  return annual_rets / annual_std\n",
      "[W 2025-09-18 19:39:54,013] Trial 49 failed with parameters: {'rsi_window': 39, 'rsi_lower': 5, 'stop_loss': 0.10934119033413336, 'take_profit': 0.04675528687963415, 'n_shares': 220} because of the following error: The value nan is not acceptable.\n",
      "[W 2025-09-18 19:39:54,013] Trial 49 failed with value np.float64(nan).\n"
     ]
    }
   ],
   "source": [
    "study = optuna.create_study(direction=\"maximize\")\n",
    "study.optimize(lambda trial: objective(trial, data), n_trials=50)\n"
   ]
  },
  {
   "cell_type": "code",
   "execution_count": 47,
   "id": "611212ae",
   "metadata": {},
   "outputs": [
    {
     "data": {
      "text/plain": [
       "{'rsi_window': 72,\n",
       " 'rsi_lower': 32,\n",
       " 'stop_loss': 0.13260568096517933,\n",
       " 'take_profit': 0.14276960205825884,\n",
       " 'n_shares': 436}"
      ]
     },
     "execution_count": 47,
     "metadata": {},
     "output_type": "execute_result"
    }
   ],
   "source": [
    "study.best_params"
   ]
  },
  {
   "cell_type": "code",
   "execution_count": 16,
   "id": "db69d937",
   "metadata": {},
   "outputs": [],
   "source": [
    "rsi_ind = ta.momentum.RSIIndicator(data.Close, window=15)"
   ]
  },
  {
   "cell_type": "code",
   "execution_count": null,
   "id": "a38cb690",
   "metadata": {},
   "outputs": [],
   "source": [
    "data['rsi'] = rsi_ind.rsi()\n",
    "data['buy_signal'] = data['rsi'] < 32\n",
    "data['sell_signal'] = data['rsi'] > 72\n",
    "\n",
    "data = data.dropna()"
   ]
  },
  {
   "cell_type": "code",
   "execution_count": null,
   "id": "c9b933d5",
   "metadata": {},
   "outputs": [
    {
     "data": {
      "text/plain": [
       "'AAPL'"
      ]
     },
     "execution_count": 18,
     "metadata": {},
     "output_type": "execute_result"
    }
   ],
   "source": [
    "from dataclasses import dataclass\n",
    "\n",
    "@dataclass\n",
    "\n",
    "class Position: \n",
    "    ticker: str\n",
    "    n_shares: int\n",
    "    price: float \n",
    "    sl: float \n",
    "    tp: float \n",
    "    time: str \n",
    "\n",
    "pos = Position(\n",
    "    ticker='AAPL',\n",
    "    n_shares=,\n",
    "    price=150.0,\n",
    "    sl=145.0,\n",
    "    tp=160.0,\n",
    "    time='2021-01-01'\n",
    ")\n",
    "pos.ticker\n"
   ]
  },
  {
   "cell_type": "code",
   "execution_count": null,
   "id": "f22d531a",
   "metadata": {},
   "outputs": [],
   "source": [
    "COM = 0.125/100\n",
    "BORROW_RATE = 0.25/100\n",
    "\n",
    "\n",
    "STOP_LOSS = 0.1326\n",
    "TAKE_PROFIT = 0.1427\n",
    "N_SHARES = 436\n",
    "\n",
    "\n",
    "capital = 1_000_000\n",
    "active_long_positions: list[Position] = []\n",
    "portfolio_value: list[float] = [capital]\n",
    "\n",
    "# Diferencias de todas las posiciones para corto\n",
    "\n",
    "\n",
    "for i, row in data.iterrows():\n",
    "    # - LONG - #\n",
    "    # Check active orders\n",
    "    for position in active_long_positions.copy():\n",
    "        # Stop loss or take profit check\n",
    "        if row.Close > position.tp or row.Close < position.sl:\n",
    "            # Add profits / losses to capital\n",
    "            capital += row.Close * position.n_shares * (1 - COM)\n",
    "            # Remove position from active pos\n",
    "            active_long_positions.remove(position)\n",
    "\n",
    "\n",
    "    # Check signal\n",
    "    if row.buy_signal:\n",
    "        cost = row.Close * N_SHARES * (1 + COM)\n",
    "        # Do we have enough capital?\n",
    "        if capital > cost:\n",
    "            # Discount cash\n",
    "            capital -= cost\n",
    "            #add position to portfolio\n",
    "            pos = Position(ticker=\"AAPL\", n_shares=N_SHARES, price=row.Close, sl=row.Close * (1 - STOP_LOSS),\n",
    "                            tp=row.Close * (1 + TAKE_PROFIT), time=row.Datetime)\n",
    "            active_long_positions.append(pos)\n",
    "\n",
    "    current_value = len(active_long_positions) * row.Close * N_SHARES + capital\n",
    "    portfolio_value.append(current_value)\n",
    "\n",
    "# At the end of the backtesting, we should close all the active positions\n",
    "capital += row.Close * len(active_long_positions) * N_SHARES * (1 - COM)\n",
    "active_long_positions = []\n"
   ]
  },
  {
   "cell_type": "code",
   "execution_count": 49,
   "id": "9538ef69",
   "metadata": {},
   "outputs": [
    {
     "data": {
      "text/plain": [
       "1416174.8492600801"
      ]
     },
     "execution_count": 49,
     "metadata": {},
     "output_type": "execute_result"
    }
   ],
   "source": [
    "capital"
   ]
  },
  {
   "cell_type": "code",
   "execution_count": 23,
   "id": "76803a12",
   "metadata": {},
   "outputs": [
    {
     "data": {
      "text/plain": [
       "[<matplotlib.lines.Line2D at 0x28345a4d640>]"
      ]
     },
     "execution_count": 23,
     "metadata": {},
     "output_type": "execute_result"
    },
    {
     "data": {
      "image/png": "[encoded data removed]",
      "text/plain": [
       "<Figure size 640x480 with 2 Axes>"
      ]
     },
     "metadata": {},
     "output_type": "display_data"
    }
   ],
   "source": [
    "fig, ax = plt.subplots(1,1)\n",
    "plt.plot(portfolio_value)\n",
    "\n",
    "\n",
    "ax.plot(capital)\n",
    "ax2 = ax.twinx()\n",
    "ax2.plot(data.Close, color='orange')"
   ]
  },
  {
   "cell_type": "code",
   "execution_count": 21,
   "id": "b5c5f9c4",
   "metadata": {},
   "outputs": [],
   "source": [
    "# Para el corto es cost = row.Close * N_SHARES * (COM)\n"
   ]
  },
  {
   "cell_type": "code",
   "execution_count": null,
   "id": "99f193d1",
   "metadata": {},
   "outputs": [],
   "source": [
    "df = pd.DataFrame()\n",
    "df[\"value\"] = portfolio_value\n",
    "df[\"rets\"] = df.value.pct_change()\n",
    "df.dropna(inplace=True)\n",
    "\n",
    "mean = df.rets.mean()\n",
    "std = df.rets.std()"
   ]
  },
  {
   "cell_type": "code",
   "execution_count": 35,
   "id": "61caf2ee",
   "metadata": {},
   "outputs": [],
   "source": [
    "annual_rets = mean * (60/5) * (6.5) * (252)  # anualizado\n",
    "annual_std = std * np.sqrt((60/5) * (6.5) * (252))\n"
   ]
  },
  {
   "cell_type": "code",
   "execution_count": 36,
   "id": "7093b413",
   "metadata": {},
   "outputs": [
    {
     "data": {
      "text/plain": [
       "np.float64(7.437526444662262e-09)"
      ]
     },
     "execution_count": 36,
     "metadata": {},
     "output_type": "execute_result"
    }
   ],
   "source": [
    "annual_rets / annual_std"
   ]
  },
  {
   "cell_type": "code",
   "execution_count": 31,
   "id": "ebc53159",
   "metadata": {},
   "outputs": [
    {
     "data": {
      "text/plain": [
       "np.float64(314.69366548333954)"
      ]
     },
     "execution_count": 31,
     "metadata": {},
     "output_type": "execute_result"
    }
   ],
   "source": [
    "p = np.array(portfolio_value)\n",
    "mean = p.mean(axis=0)\n",
    "std = p.std(axis=0)\n",
    "mean/std"
   ]
  },
  {
   "cell_type": "code",
   "execution_count": null,
   "id": "f5890a2e",
   "metadata": {},
   "outputs": [],
   "source": []
  }
 ],
 "metadata": {
  "kernelspec": {
   "display_name": "Python 3",
   "language": "python",
   "name": "python3"
  },
  "language_info": {
   "codemirror_mode": {
    "name": "ipython",
    "version": 3
   },
   "file_extension": ".py",
   "mimetype": "text/x-python",
   "name": "python",
   "nbconvert_exporter": "python",
   "pygments_lexer": "ipython3",
   "version": "3.12.10"
  }
 },
 "nbformat": 4,
 "nbformat_minor": 5
}
