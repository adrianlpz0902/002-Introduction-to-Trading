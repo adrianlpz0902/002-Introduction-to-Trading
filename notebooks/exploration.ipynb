{
 "cells": [
  {
   "cell_type": "markdown",
   "metadata": {},
   "source": [
    "# Trading Strategy Project 002 - Data Exploration\n",
    "\n",
    "This notebook provides initial exploration of the BTC/USDT hourly data and demonstrates the usage of the strategy modules."
   ]
  },
  {
   "cell_type": "code",
   "execution_count": null,
   "metadata": {},
   "outputs": [],
   "source": [
    "# Imports\n",
    "import sys\n",
    "sys.path.append('..')\n",
    "\n",
    "import pandas as pd\n",
    "import numpy as np\n",
    "import matplotlib.pyplot as plt\n",
    "import seaborn as sns\n",
    "\n",
    "from src.data_loader import load_and_preprocess_data\n",
    "from src.indicators import add_all_indicators\n",
    "from src.signals import create_signals\n",
    "from src.backtest import run_backtest\n",
    "from src.metrics import calculate_all_metrics\n",
    "from src.visualization import plot_portfolio_value, plot_returns, plot_drawdown\n",
    "\n",
    "# Display settings\n",
    "pd.set_option('display.max_columns', None)\n",
    "plt.style.use('seaborn-v0_8-darkgrid')\n",
    "%matplotlib inline"
   ]
  },
  {
   "cell_type": "markdown",
   "metadata": {},
   "source": [
    "## 1. Load and Explore Data"
   ]
  },
  {
   "cell_type": "code",
   "execution_count": null,
   "metadata": {},
   "outputs": [],
   "source": [
    "# Load data\n",
    "train_data, test_data, val_data = load_and_preprocess_data('../data/Binance_BTCUSDT_1h.csv')\n",
    "\n",
    "print(f\"\\nTraining data shape: {train_data.shape}\")\n",
    "print(f\"Test data shape: {test_data.shape}\")\n",
    "print(f\"Validation data shape: {val_data.shape}\")"
   ]
  },
  {
   "cell_type": "code",
   "execution_count": null,
   "metadata": {},
   "outputs": [],
   "source": [
    "# Display first few rows\n",
    "train_data.head()"
   ]
  },
  {
   "cell_type": "code",
   "execution_count": null,
   "metadata": {},
   "outputs": [],
   "source": [
    "# Basic statistics\n",
    "train_data.describe()"
   ]
  },
  {
   "cell_type": "code",
   "execution_count": null,
   "metadata": {},
   "outputs": [],
   "source": [
    "# Plot price over time\n",
    "plt.figure(figsize=(14, 6))\n",
    "plt.plot(train_data.index, train_data['close'], label='Close Price', linewidth=1)\n",
    "plt.title('BTC/USDT Close Price - Training Data', fontsize=16)\n",
    "plt.xlabel('Time')\n",
    "plt.ylabel('Price (USDT)')\n",
    "plt.legend()\n",
    "plt.grid(True, alpha=0.3)\n",
    "plt.tight_layout()\n",
    "plt.show()"
   ]
  },
  {
   "cell_type": "markdown",
   "metadata": {},
   "source": [
    "## 2. Add Technical Indicators"
   ]
  },
  {
   "cell_type": "code",
   "execution_count": null,
   "metadata": {},
   "outputs": [],
   "source": [
    "# Add indicators to training data\n",
    "train_with_indicators = add_all_indicators(\n",
    "    train_data.copy(),\n",
    "    rsi_period=14,\n",
    "    macd_fast=12,\n",
    "    macd_slow=26,\n",
    "    macd_signal=9,\n",
    "    bb_period=20,\n",
    "    bb_std=2.0\n",
    ")\n",
    "\n",
    "train_with_indicators.head(30)"
   ]
  },
  {
   "cell_type": "code",
   "execution_count": null,
   "metadata": {},
   "outputs": [],
   "source": [
    "# Visualize indicators\n",
    "fig, axes = plt.subplots(4, 1, figsize=(14, 12))\n",
    "\n",
    "# Price and Bollinger Bands\n",
    "axes[0].plot(train_with_indicators.index, train_with_indicators['close'], label='Close', linewidth=1)\n",
    "axes[0].plot(train_with_indicators.index, train_with_indicators['bb_upper'], label='BB Upper', linestyle='--', alpha=0.7)\n",
    "axes[0].plot(train_with_indicators.index, train_with_indicators['bb_middle'], label='BB Middle', linestyle='--', alpha=0.7)\n",
    "axes[0].plot(train_with_indicators.index, train_with_indicators['bb_lower'], label='BB Lower', linestyle='--', alpha=0.7)\n",
    "axes[0].set_title('Price and Bollinger Bands')\n",
    "axes[0].legend()\n",
    "axes[0].grid(True, alpha=0.3)\n",
    "\n",
    "# RSI\n",
    "axes[1].plot(train_with_indicators.index, train_with_indicators['rsi'], label='RSI', color='purple', linewidth=1)\n",
    "axes[1].axhline(y=70, color='r', linestyle='--', alpha=0.5, label='Overbought (70)')\n",
    "axes[1].axhline(y=30, color='g', linestyle='--', alpha=0.5, label='Oversold (30)')\n",
    "axes[1].set_title('RSI')\n",
    "axes[1].legend()\n",
    "axes[1].grid(True, alpha=0.3)\n",
    "\n",
    "# MACD\n",
    "axes[2].plot(train_with_indicators.index, train_with_indicators['macd'], label='MACD', linewidth=1)\n",
    "axes[2].plot(train_with_indicators.index, train_with_indicators['macd_signal'], label='Signal', linewidth=1)\n",
    "axes[2].bar(train_with_indicators.index, train_with_indicators['macd_histogram'], label='Histogram', alpha=0.3)\n",
    "axes[2].set_title('MACD')\n",
    "axes[2].legend()\n",
    "axes[2].grid(True, alpha=0.3)\n",
    "\n",
    "# Volume\n",
    "axes[3].bar(train_with_indicators.index, train_with_indicators['volume'], alpha=0.5)\n",
    "axes[3].set_title('Volume')\n",
    "axes[3].grid(True, alpha=0.3)\n",
    "\n",
    "plt.tight_layout()\n",
    "plt.show()"
   ]
  },
  {
   "cell_type": "markdown",
   "metadata": {},
   "source": [
    "## 3. Generate Trading Signals"
   ]
  },
  {
   "cell_type": "code",
   "execution_count": null,
   "metadata": {},
   "outputs": [],
   "source": [
    "# Create signals with 2-of-3 confirmation\n",
    "train_with_signals = create_signals(\n",
    "    train_with_indicators,\n",
    "    rsi_oversold=30,\n",
    "    rsi_overbought=70,\n",
    "    min_confirmations=2\n",
    ")\n",
    "\n",
    "# Count signals\n",
    "print(f\"Buy signals: {train_with_signals['buy_signal'].sum()}\")\n",
    "print(f\"Sell signals: {train_with_signals['sell_signal'].sum()}\")"
   ]
  },
  {
   "cell_type": "code",
   "execution_count": null,
   "metadata": {},
   "outputs": [],
   "source": [
    "# Visualize signals on price chart\n",
    "plt.figure(figsize=(14, 6))\n",
    "\n",
    "# Plot price\n",
    "plt.plot(train_with_signals.index, train_with_signals['close'], label='Close Price', linewidth=1.5)\n",
    "\n",
    "# Plot buy signals\n",
    "buy_signals = train_with_signals[train_with_signals['buy_signal']]\n",
    "plt.scatter(buy_signals.index, buy_signals['close'], marker='^', color='green', s=100, label='Buy Signal', zorder=5)\n",
    "\n",
    "# Plot sell signals\n",
    "sell_signals = train_with_signals[train_with_signals['sell_signal']]\n",
    "plt.scatter(sell_signals.index, sell_signals['close'], marker='v', color='red', s=100, label='Sell Signal', zorder=5)\n",
    "\n",
    "plt.title('Trading Signals on Price Chart', fontsize=16)\n",
    "plt.xlabel('Time')\n",
    "plt.ylabel('Price (USDT)')\n",
    "plt.legend()\n",
    "plt.grid(True, alpha=0.3)\n",
    "plt.tight_layout()\n",
    "plt.show()"
   ]
  },
  {
   "cell_type": "markdown",
   "metadata": {},
   "source": [
    "## 4. Run Backtesting"
   ]
  },
  {
   "cell_type": "code",
   "execution_count": null,
   "metadata": {},
   "outputs": [],
   "source": [
    "# Run backtest\n",
    "portfolio, history_df = run_backtest(\n",
    "    train_with_signals,\n",
    "    initial_cash=10000.0,\n",
    "    transaction_fee=0.00125,\n",
    "    stop_loss=0.02,\n",
    "    take_profit=0.03\n",
    ")\n",
    "\n",
    "print(\"\\nBacktest complete!\")\n",
    "print(f\"Initial portfolio value: ${portfolio.initial_cash:.2f}\")\n",
    "print(f\"Final portfolio value: ${history_df['portfolio_value'].iloc[-1]:.2f}\")\n",
    "print(f\"Total return: {((history_df['portfolio_value'].iloc[-1] / portfolio.initial_cash) - 1) * 100:.2f}%\")"
   ]
  },
  {
   "cell_type": "code",
   "execution_count": null,
   "metadata": {},
   "outputs": [],
   "source": [
    "# View portfolio history\n",
    "history_df.head(20)"
   ]
  },
  {
   "cell_type": "markdown",
   "metadata": {},
   "source": [
    "## 5. Calculate Performance Metrics"
   ]
  },
  {
   "cell_type": "code",
   "execution_count": null,
   "metadata": {},
   "outputs": [],
   "source": [
    "# Calculate all metrics\n",
    "metrics = calculate_all_metrics(\n",
    "    portfolio_values=history_df['portfolio_value'],\n",
    "    history_df=history_df,\n",
    "    risk_free_rate=0.0,\n",
    "    periods_per_year=8760\n",
    ")\n",
    "\n",
    "# Display metrics\n",
    "print(\"\\n\" + \"=\"*50)\n",
    "print(\"PERFORMANCE METRICS\")\n",
    "print(\"=\"*50)\n",
    "print(f\"Total Return: {metrics['total_return_pct']:.2f}%\")\n",
    "print(f\"Sharpe Ratio: {metrics['sharpe_ratio']:.4f}\")\n",
    "print(f\"Sortino Ratio: {metrics['sortino_ratio']:.4f}\")\n",
    "print(f\"Calmar Ratio: {metrics['calmar_ratio']:.4f}\")\n",
    "print(f\"Max Drawdown: {metrics['max_drawdown_pct']:.2f}%\")\n",
    "print(f\"Win Rate: {metrics['win_rate_pct']:.2f}%\")\n",
    "print(f\"Total Trades: {metrics['total_trades']}\")\n",
    "print(f\"Winning Trades: {metrics['winning_trades']}\")\n",
    "print(f\"Losing Trades: {metrics['losing_trades']}\")\n",
    "print(\"=\"*50)"
   ]
  },
  {
   "cell_type": "markdown",
   "metadata": {},
   "source": [
    "## 6. Visualizations"
   ]
  },
  {
   "cell_type": "code",
   "execution_count": null,
   "metadata": {},
   "outputs": [],
   "source": [
    "# Portfolio value over time\n",
    "plot_portfolio_value(history_df, title='Portfolio Value Over Time - Training Data')"
   ]
  },
  {
   "cell_type": "code",
   "execution_count": null,
   "metadata": {},
   "outputs": [],
   "source": [
    "# Cumulative returns\n",
    "plot_returns(history_df, title='Cumulative Returns - Training Data')"
   ]
  },
  {
   "cell_type": "code",
   "execution_count": null,
   "metadata": {},
   "outputs": [],
   "source": [
    "# Drawdown analysis\n",
    "plot_drawdown(history_df, title='Drawdown Analysis - Training Data')"
   ]
  },
  {
   "cell_type": "markdown",
   "metadata": {},
   "source": [
    "## 7. Next Steps\n",
    "\n",
    "- Run hyperparameter optimization using Optuna\n",
    "- Evaluate on test and validation sets\n",
    "- Perform walk-forward analysis\n",
    "- Generate final report with all visualizations\n",
    "\n",
    "To run the complete pipeline, execute:\n",
    "```bash\n",
    "python main.py\n",
    "```"
   ]
  },
  {
   "cell_type": "code",
   "execution_count": null,
   "metadata": {},
   "outputs": [],
   "source": []
  }
 ],
 "metadata": {
  "kernelspec": {
   "display_name": "Python 3",
   "language": "python",
   "name": "python3"
  },
  "language_info": {
   "codemirror_mode": {
    "name": "ipython",
    "version": 3
   },
   "file_extension": ".py",
   "mimetype": "text/x-python",
   "name": "python",
   "nbconvert_exporter": "python",
   "pygments_lexer": "ipython3",
   "version": "3.9.0"
  }
 },
 "nbformat": 4,
 "nbformat_minor": 4
}
